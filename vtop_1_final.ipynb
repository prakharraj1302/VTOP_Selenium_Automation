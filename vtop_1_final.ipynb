{
 "cells": [
  {
   "attachments": {},
   "cell_type": "markdown",
   "metadata": {},
   "source": [
    "## VTOP SELENIUM AUTOMATOR\n",
    "Using Selenium in Python to access the elements of the webpage to navigate the Vtop sign-up page, extracting and saving the captcha and filling login form using Selenium with further navigating the vtop portal, downloading the attendance and grade history "
   ]
  },
  {
   "cell_type": "code",
   "execution_count": null,
   "metadata": {},
   "outputs": [],
   "source": []
  },
  {
   "cell_type": "code",
   "execution_count": 6,
   "metadata": {},
   "outputs": [],
   "source": [
    "from selenium import webdriver\n",
    "from selenium.webdriver.common.by import By\n",
    "from selenium.webdriver.support.ui import Select\n",
    "from bs4 import BeautifulSoup as bs\n",
    "from datetime import datetime\n",
    "import requests\n",
    "import pandas as pd\n",
    "    \n",
    "import urllib3\n",
    "import os\n"
   ]
  },
  {
   "cell_type": "code",
   "execution_count": 9,
   "metadata": {},
   "outputs": [],
   "source": [
    "d = webdriver.Safari()\n",
    "d.get('https://vtop.vitbhopal.ac.in/vtop/')"
   ]
  },
  {
   "cell_type": "code",
   "execution_count": 10,
   "metadata": {},
   "outputs": [],
   "source": [
    "d.execute_script(\"openPage();\")"
   ]
  },
  {
   "cell_type": "code",
   "execution_count": 11,
   "metadata": {},
   "outputs": [
    {
     "name": "stderr",
     "output_type": "stream",
     "text": [
      "/var/folders/6v/3xlgk1vx0c1dtyc0knkbytp40000gn/T/ipykernel_2870/209622267.py:1: DeprecationWarning: find_element_by_xpath is deprecated. Please use find_element(by=By.XPATH, value=xpath) instead\n",
      "  user = d.find_element_by_xpath('//*[@id=\"uname\"]')\n",
      "/var/folders/6v/3xlgk1vx0c1dtyc0knkbytp40000gn/T/ipykernel_2870/209622267.py:2: DeprecationWarning: find_element_by_xpath is deprecated. Please use find_element(by=By.XPATH, value=xpath) instead\n",
      "  passw = d.find_element_by_xpath('//*[@id=\"passwd\"]')\n",
      "/var/folders/6v/3xlgk1vx0c1dtyc0knkbytp40000gn/T/ipykernel_2870/209622267.py:4: DeprecationWarning: find_element_by_xpath is deprecated. Please use find_element(by=By.XPATH, value=xpath) instead\n",
      "  captcha_form = d.find_element_by_xpath('//*[@id=\"captchaCheck\"]')\n"
     ]
    }
   ],
   "source": [
    "\n",
    "user = d.find_element_by_xpath('//*[@id=\"uname\"]')\n",
    "passw = d.find_element_by_xpath('//*[@id=\"passwd\"]')\n",
    "\n",
    "captcha_form = d.find_element_by_xpath('//*[@id=\"captchaCheck\"]')\n",
    "\n",
    "user.send_keys(username)\n",
    "passw.send_keys(password)\n"
   ]
  },
  {
   "cell_type": "code",
   "execution_count": 12,
   "metadata": {},
   "outputs": [
    {
     "name": "stderr",
     "output_type": "stream",
     "text": [
      "/var/folders/6v/3xlgk1vx0c1dtyc0knkbytp40000gn/T/ipykernel_2870/3473774292.py:6: DeprecationWarning: find_element_by_xpath is deprecated. Please use find_element(by=By.XPATH, value=xpath) instead\n",
      "  img = d.find_element_by_xpath('//*[@id=\"captchaRefresh\"]/div/img')\n"
     ]
    }
   ],
   "source": [
    "\n",
    "time = datetime.now().time()\n",
    "time = str(time)[:8]\n",
    "filepath = \"captcha/captcha_{}.png\".format(time)\n",
    "\n",
    "with open(filepath , 'wb') as file:\n",
    "    img = d.find_element_by_xpath('//*[@id=\"captchaRefresh\"]/div/img')\n",
    "    file.write(img.screenshot_as_png)"
   ]
  },
  {
   "cell_type": "code",
   "execution_count": 13,
   "metadata": {},
   "outputs": [
    {
     "data": {
      "text/plain": [
       "0"
      ]
     },
     "execution_count": 13,
     "metadata": {},
     "output_type": "execute_result"
    }
   ],
   "source": [
    "cmd = \"open {}\".format(filepath)\n",
    "os.system(cmd)"
   ]
  },
  {
   "cell_type": "code",
   "execution_count": null,
   "metadata": {},
   "outputs": [],
   "source": []
  },
  {
   "cell_type": "code",
   "execution_count": 14,
   "metadata": {},
   "outputs": [],
   "source": [
    "cap = input(\"enteer captcha\").upper()\n",
    "captcha_form.send_keys(cap)\n",
    "captcha_form.send_keys('\\n')"
   ]
  },
  {
   "cell_type": "code",
   "execution_count": 14,
   "metadata": {},
   "outputs": [],
   "source": [
    "d.execute_script(\"onSubmit();\")"
   ]
  },
  {
   "cell_type": "markdown",
   "metadata": {},
   "source": [
    "# attendance\n"
   ]
  },
  {
   "cell_type": "code",
   "execution_count": 15,
   "metadata": {},
   "outputs": [],
   "source": [
    "d.execute_script(\"loadmydiv('academics/common/StudentAttendance');\")"
   ]
  },
  {
   "cell_type": "code",
   "execution_count": 16,
   "metadata": {},
   "outputs": [
    {
     "name": "stderr",
     "output_type": "stream",
     "text": [
      "/var/folders/6v/3xlgk1vx0c1dtyc0knkbytp40000gn/T/ipykernel_2870/3584805392.py:2: DeprecationWarning: find_element_by_xpath is deprecated. Please use find_element(by=By.XPATH, value=xpath) instead\n",
      "  att = Select(d.find_element_by_xpath('//*[@id=\"semesterSubId\"]'))\n"
     ]
    }
   ],
   "source": [
    "\n",
    "#//*[@id=\"semesterSubId\"]\n",
    "att = Select(d.find_element_by_xpath('//*[@id=\"semesterSubId\"]'))\n",
    "att.select_by_visible_text('Winter Inter Semester - II 2021-22 - BPL')"
   ]
  },
  {
   "cell_type": "code",
   "execution_count": 17,
   "metadata": {},
   "outputs": [],
   "source": [
    "d.execute_script(\"processStudentAttendance();\") "
   ]
  },
  {
   "cell_type": "code",
   "execution_count": 18,
   "metadata": {},
   "outputs": [
    {
     "name": "stderr",
     "output_type": "stream",
     "text": [
      "/var/folders/6v/3xlgk1vx0c1dtyc0knkbytp40000gn/T/ipykernel_2870/700316719.py:2: DeprecationWarning: find_element_by_xpath is deprecated. Please use find_element(by=By.XPATH, value=xpath) instead\n",
      "  tab = d.find_element_by_xpath('//*[@id=\"getStudentDetails\"]/div/table').get_attribute('outerHTML')\n"
     ]
    }
   ],
   "source": [
    "import pandas as pd\n",
    "tab = d.find_element_by_xpath('//*[@id=\"getStudentDetails\"]/div/table').get_attribute('outerHTML')\n",
    "tab2 =  pd.read_html(tab)"
   ]
  },
  {
   "cell_type": "code",
   "execution_count": 19,
   "metadata": {},
   "outputs": [],
   "source": [
    "tabT = tab2[0]"
   ]
  },
  {
   "cell_type": "code",
   "execution_count": 20,
   "metadata": {},
   "outputs": [],
   "source": [
    "tabT = tabT.T"
   ]
  },
  {
   "cell_type": "code",
   "execution_count": 21,
   "metadata": {},
   "outputs": [
    {
     "data": {
      "text/html": [
       "<div>\n",
       "<style scoped>\n",
       "    .dataframe tbody tr th:only-of-type {\n",
       "        vertical-align: middle;\n",
       "    }\n",
       "\n",
       "    .dataframe tbody tr th {\n",
       "        vertical-align: top;\n",
       "    }\n",
       "\n",
       "    .dataframe thead th {\n",
       "        text-align: right;\n",
       "    }\n",
       "</style>\n",
       "<table border=\"1\" class=\"dataframe\">\n",
       "  <thead>\n",
       "    <tr style=\"text-align: right;\">\n",
       "      <th></th>\n",
       "      <th>0</th>\n",
       "      <th>1</th>\n",
       "      <th>2</th>\n",
       "      <th>3</th>\n",
       "    </tr>\n",
       "  </thead>\n",
       "  <tbody>\n",
       "    <tr>\n",
       "      <th>Sl.No</th>\n",
       "      <td>1</td>\n",
       "      <td>2</td>\n",
       "      <td>3</td>\n",
       "      <td>Total Number Of Credits: 11</td>\n",
       "    </tr>\n",
       "    <tr>\n",
       "      <th>Course  Code</th>\n",
       "      <td>CSE3001</td>\n",
       "      <td>CSE3011</td>\n",
       "      <td>MAT3003</td>\n",
       "      <td>Total Number Of Credits: 11</td>\n",
       "    </tr>\n",
       "    <tr>\n",
       "      <th>Course  Title</th>\n",
       "      <td>Database Management Systems</td>\n",
       "      <td>Python Programming</td>\n",
       "      <td>Probability, Statistics And Reliability</td>\n",
       "      <td>Total Number Of Credits: 11</td>\n",
       "    </tr>\n",
       "    <tr>\n",
       "      <th>Course  Type</th>\n",
       "      <td>Lecture and Tutorial ,practical hours only</td>\n",
       "      <td>Lecture and Practical Hours Only</td>\n",
       "      <td>Lecture and Tutorial Hours Only</td>\n",
       "      <td>Total Number Of Credits: 11</td>\n",
       "    </tr>\n",
       "    <tr>\n",
       "      <th>Slot</th>\n",
       "      <td>B11+B12+B13+E11+E12+E13</td>\n",
       "      <td>A11+A12+A13+D11+D12</td>\n",
       "      <td>C11+C12+C13+C23+F11+F12</td>\n",
       "      <td>Total Number Of Credits: 11</td>\n",
       "    </tr>\n",
       "    <tr>\n",
       "      <th>Faculty  Name</th>\n",
       "      <td>100070  BASEERA A  SCSE</td>\n",
       "      <td>100118  ANAND MOTWANI  SCSE</td>\n",
       "      <td>100147  JYOTI BADGE  SASL</td>\n",
       "      <td>Total Number Of Credits: 11</td>\n",
       "    </tr>\n",
       "    <tr>\n",
       "      <th>Attendance Type</th>\n",
       "      <td>Manual</td>\n",
       "      <td>Manual</td>\n",
       "      <td>Manual</td>\n",
       "      <td>Total Number Of Credits: 11</td>\n",
       "    </tr>\n",
       "    <tr>\n",
       "      <th>Registration Date / Time</th>\n",
       "      <td>01-Mar-2022 20:32</td>\n",
       "      <td>01-Mar-2022 20:33</td>\n",
       "      <td>01-Mar-2022 20:31</td>\n",
       "      <td>Total Number Of Credits: 11</td>\n",
       "    </tr>\n",
       "    <tr>\n",
       "      <th>Attendance Date</th>\n",
       "      <td>02-Mar-2022</td>\n",
       "      <td>02-Mar-2022</td>\n",
       "      <td>02-Mar-2022</td>\n",
       "      <td>Total Number Of Credits: 11</td>\n",
       "    </tr>\n",
       "    <tr>\n",
       "      <th>Attended Classes</th>\n",
       "      <td>31</td>\n",
       "      <td>23</td>\n",
       "      <td>29</td>\n",
       "      <td>Total Number Of Credits: 11</td>\n",
       "    </tr>\n",
       "    <tr>\n",
       "      <th>Total Classes</th>\n",
       "      <td>31</td>\n",
       "      <td>23</td>\n",
       "      <td>29</td>\n",
       "      <td>Total Number Of Credits: 11</td>\n",
       "    </tr>\n",
       "    <tr>\n",
       "      <th>Attendance Percentage</th>\n",
       "      <td>100</td>\n",
       "      <td>100</td>\n",
       "      <td>100</td>\n",
       "      <td>Total Number Of Credits: 11</td>\n",
       "    </tr>\n",
       "    <tr>\n",
       "      <th>Status</th>\n",
       "      <td>-</td>\n",
       "      <td>-</td>\n",
       "      <td>-</td>\n",
       "      <td>Total Number Of Credits: 11</td>\n",
       "    </tr>\n",
       "    <tr>\n",
       "      <th>Attendance View</th>\n",
       "      <td>View</td>\n",
       "      <td>View</td>\n",
       "      <td>View</td>\n",
       "      <td>Total Number Of Credits: 11</td>\n",
       "    </tr>\n",
       "    <tr>\n",
       "      <th>Unnamed: 14</th>\n",
       "      <td>NaN</td>\n",
       "      <td>NaN</td>\n",
       "      <td>NaN</td>\n",
       "      <td>Total Number Of Credits: 11</td>\n",
       "    </tr>\n",
       "  </tbody>\n",
       "</table>\n",
       "</div>"
      ],
      "text/plain": [
       "                                                                   0  \\\n",
       "Sl.No                                                              1   \n",
       "Course  Code                                                 CSE3001   \n",
       "Course  Title                            Database Management Systems   \n",
       "Course  Type              Lecture and Tutorial ,practical hours only   \n",
       "Slot                                         B11+B12+B13+E11+E12+E13   \n",
       "Faculty  Name                                100070  BASEERA A  SCSE   \n",
       "Attendance Type                                               Manual   \n",
       "Registration Date / Time                           01-Mar-2022 20:32   \n",
       "Attendance Date                                          02-Mar-2022   \n",
       "Attended Classes                                                  31   \n",
       "Total Classes                                                     31   \n",
       "Attendance Percentage                                            100   \n",
       "Status                                                             -   \n",
       "Attendance View                                                 View   \n",
       "Unnamed: 14                                                      NaN   \n",
       "\n",
       "                                                         1  \\\n",
       "Sl.No                                                    2   \n",
       "Course  Code                                       CSE3011   \n",
       "Course  Title                           Python Programming   \n",
       "Course  Type              Lecture and Practical Hours Only   \n",
       "Slot                                   A11+A12+A13+D11+D12   \n",
       "Faculty  Name                  100118  ANAND MOTWANI  SCSE   \n",
       "Attendance Type                                     Manual   \n",
       "Registration Date / Time                 01-Mar-2022 20:33   \n",
       "Attendance Date                                02-Mar-2022   \n",
       "Attended Classes                                        23   \n",
       "Total Classes                                           23   \n",
       "Attendance Percentage                                  100   \n",
       "Status                                                   -   \n",
       "Attendance View                                       View   \n",
       "Unnamed: 14                                            NaN   \n",
       "\n",
       "                                                                2  \\\n",
       "Sl.No                                                           3   \n",
       "Course  Code                                              MAT3003   \n",
       "Course  Title             Probability, Statistics And Reliability   \n",
       "Course  Type                      Lecture and Tutorial Hours Only   \n",
       "Slot                                      C11+C12+C13+C23+F11+F12   \n",
       "Faculty  Name                           100147  JYOTI BADGE  SASL   \n",
       "Attendance Type                                            Manual   \n",
       "Registration Date / Time                        01-Mar-2022 20:31   \n",
       "Attendance Date                                       02-Mar-2022   \n",
       "Attended Classes                                               29   \n",
       "Total Classes                                                  29   \n",
       "Attendance Percentage                                         100   \n",
       "Status                                                          -   \n",
       "Attendance View                                              View   \n",
       "Unnamed: 14                                                   NaN   \n",
       "\n",
       "                                                    3  \n",
       "Sl.No                     Total Number Of Credits: 11  \n",
       "Course  Code              Total Number Of Credits: 11  \n",
       "Course  Title             Total Number Of Credits: 11  \n",
       "Course  Type              Total Number Of Credits: 11  \n",
       "Slot                      Total Number Of Credits: 11  \n",
       "Faculty  Name             Total Number Of Credits: 11  \n",
       "Attendance Type           Total Number Of Credits: 11  \n",
       "Registration Date / Time  Total Number Of Credits: 11  \n",
       "Attendance Date           Total Number Of Credits: 11  \n",
       "Attended Classes          Total Number Of Credits: 11  \n",
       "Total Classes             Total Number Of Credits: 11  \n",
       "Attendance Percentage     Total Number Of Credits: 11  \n",
       "Status                    Total Number Of Credits: 11  \n",
       "Attendance View           Total Number Of Credits: 11  \n",
       "Unnamed: 14               Total Number Of Credits: 11  "
      ]
     },
     "execution_count": 21,
     "metadata": {},
     "output_type": "execute_result"
    }
   ],
   "source": [
    "tabT"
   ]
  },
  {
   "cell_type": "markdown",
   "metadata": {},
   "source": [
    "'//*[@id=\"getStudentDetails\"]/div/table\n"
   ]
  },
  {
   "cell_type": "markdown",
   "metadata": {},
   "source": [
    "---"
   ]
  },
  {
   "cell_type": "code",
   "execution_count": 22,
   "metadata": {},
   "outputs": [],
   "source": [
    "d.execute_script(\"loadmydiv('examinations/examGradeView/StudentGradeHistory');\")\n",
    "# <a href=\"javascript:loadmydiv('examinations/examGradeView/StudentGradeHistory')\" id=\"EXM0023\">\t&nbsp;&nbsp;&nbsp;&nbsp;&nbsp;&nbsp; <i class=\"fa fa-dot-circle-o\" style=\"padding-right:2px;\"></i>&nbsp;&nbsp; Grade History</a>"
   ]
  },
  {
   "cell_type": "code",
   "execution_count": 23,
   "metadata": {},
   "outputs": [
    {
     "name": "stderr",
     "output_type": "stream",
     "text": [
      "/var/folders/6v/3xlgk1vx0c1dtyc0knkbytp40000gn/T/ipykernel_2870/3450517190.py:1: DeprecationWarning: find_element_by_xpath is deprecated. Please use find_element(by=By.XPATH, value=xpath) instead\n",
      "  tab = d.find_element_by_xpath('//*[@id=\"fixedTableContainer\"]/table').get_attribute('outerHTML')\n"
     ]
    }
   ],
   "source": [
    "tab = d.find_element_by_xpath('//*[@id=\"fixedTableContainer\"]/table').get_attribute('outerHTML')\n",
    "tab2 =  pd.read_html(tab)"
   ]
  },
  {
   "cell_type": "code",
   "execution_count": 24,
   "metadata": {},
   "outputs": [],
   "source": [
    "tabT = tab2[0]\n",
    "tabT = tabT.T"
   ]
  },
  {
   "cell_type": "code",
   "execution_count": 25,
   "metadata": {},
   "outputs": [
    {
     "data": {
      "text/html": [
       "<div>\n",
       "<style scoped>\n",
       "    .dataframe tbody tr th:only-of-type {\n",
       "        vertical-align: middle;\n",
       "    }\n",
       "\n",
       "    .dataframe tbody tr th {\n",
       "        vertical-align: top;\n",
       "    }\n",
       "\n",
       "    .dataframe thead th {\n",
       "        text-align: right;\n",
       "    }\n",
       "</style>\n",
       "<table border=\"1\" class=\"dataframe\">\n",
       "  <thead>\n",
       "    <tr style=\"text-align: right;\">\n",
       "      <th></th>\n",
       "      <th>0</th>\n",
       "      <th>1</th>\n",
       "    </tr>\n",
       "  </thead>\n",
       "  <tbody>\n",
       "    <tr>\n",
       "      <th>0</th>\n",
       "      <td>Reg.No.</td>\n",
       "      <td>20BCE10423</td>\n",
       "    </tr>\n",
       "    <tr>\n",
       "      <th>1</th>\n",
       "      <td>Name</td>\n",
       "      <td>PRAKHAR RAJ PANDEY</td>\n",
       "    </tr>\n",
       "    <tr>\n",
       "      <th>2</th>\n",
       "      <td>Programme and Branch</td>\n",
       "      <td>B.Tech. - Computer Science and Engineering</td>\n",
       "    </tr>\n",
       "    <tr>\n",
       "      <th>3</th>\n",
       "      <td>Programme Mode</td>\n",
       "      <td>Regular</td>\n",
       "    </tr>\n",
       "    <tr>\n",
       "      <th>4</th>\n",
       "      <td>Study System</td>\n",
       "      <td>CAL</td>\n",
       "    </tr>\n",
       "    <tr>\n",
       "      <th>5</th>\n",
       "      <td>Gender</td>\n",
       "      <td>MALE</td>\n",
       "    </tr>\n",
       "    <tr>\n",
       "      <th>6</th>\n",
       "      <td>YearJoined</td>\n",
       "      <td>2020</td>\n",
       "    </tr>\n",
       "    <tr>\n",
       "      <th>7</th>\n",
       "      <td>Edu Status</td>\n",
       "      <td>Admitted</td>\n",
       "    </tr>\n",
       "    <tr>\n",
       "      <th>8</th>\n",
       "      <td>School</td>\n",
       "      <td>SCSE</td>\n",
       "    </tr>\n",
       "    <tr>\n",
       "      <th>9</th>\n",
       "      <td>Campus</td>\n",
       "      <td>BPL</td>\n",
       "    </tr>\n",
       "  </tbody>\n",
       "</table>\n",
       "</div>"
      ],
      "text/plain": [
       "                      0                                           1\n",
       "0               Reg.No.                                  20BCE10423\n",
       "1                  Name                          PRAKHAR RAJ PANDEY\n",
       "2  Programme and Branch  B.Tech. - Computer Science and Engineering\n",
       "3        Programme Mode                                     Regular\n",
       "4          Study System                                         CAL\n",
       "5                Gender                                        MALE\n",
       "6            YearJoined                                        2020\n",
       "7            Edu Status                                    Admitted\n",
       "8                School                                        SCSE\n",
       "9                Campus                                         BPL"
      ]
     },
     "execution_count": 25,
     "metadata": {},
     "output_type": "execute_result"
    }
   ],
   "source": [
    "tabT"
   ]
  },
  {
   "cell_type": "code",
   "execution_count": 32,
   "metadata": {},
   "outputs": [],
   "source": [
    "d.execute_script(\"vtopDownload('examinations/examGradeView/doDownloadStudentHistory')\")"
   ]
  },
  {
   "cell_type": "markdown",
   "metadata": {},
   "source": [
    "# time table "
   ]
  },
  {
   "cell_type": "code",
   "execution_count": 30,
   "metadata": {},
   "outputs": [],
   "source": [
    "d.execute_script(\"javascript:loadmydiv('academics/common/StudentTimeTable')\")"
   ]
  },
  {
   "cell_type": "code",
   "execution_count": 32,
   "metadata": {},
   "outputs": [
    {
     "name": "stderr",
     "output_type": "stream",
     "text": [
      "/var/folders/6v/3xlgk1vx0c1dtyc0knkbytp40000gn/T/ipykernel_8555/2837297698.py:1: DeprecationWarning: find_element_by_xpath is deprecated. Please use find_element(by=By.XPATH, value=xpath) instead\n",
      "  att = Select(d.find_element_by_xpath('//*[@id=\"semesterSubId\"]'))\n"
     ]
    }
   ],
   "source": [
    "att = Select(d.find_element_by_xpath('//*[@id=\"semesterSubId\"]'))\n",
    "att.select_by_visible_text('Winter Inter Semester - II 2021-22')\n",
    "# d.execute()"
   ]
  },
  {
   "cell_type": "code",
   "execution_count": 38,
   "metadata": {},
   "outputs": [],
   "source": [
    "d.execute_script('processViewTimeTable();')"
   ]
  },
  {
   "cell_type": "code",
   "execution_count": 35,
   "metadata": {},
   "outputs": [
    {
     "name": "stderr",
     "output_type": "stream",
     "text": [
      "/var/folders/6v/3xlgk1vx0c1dtyc0knkbytp40000gn/T/ipykernel_8555/417265819.py:1: DeprecationWarning: find_element_by_xpath is deprecated. Please use find_element(by=By.XPATH, value=xpath) instead\n",
      "  btn = d.find_element_by_xpath('//*[@id=\"studentTimeTable\"]/div[2]/div/button')\n"
     ]
    }
   ],
   "source": [
    "btn = d.find_element_by_xpath('//*[@id=\"studentTimeTable\"]/div[2]/div/button')\n",
    "btn.click()"
   ]
  },
  {
   "cell_type": "code",
   "execution_count": null,
   "metadata": {},
   "outputs": [],
   "source": [
    "//*[@id=\"getStudentDetails\"]/div/table"
   ]
  },
  {
   "cell_type": "code",
   "execution_count": null,
   "metadata": {},
   "outputs": [],
   "source": []
  },
  {
   "cell_type": "code",
   "execution_count": 39,
   "metadata": {},
   "outputs": [
    {
     "name": "stderr",
     "output_type": "stream",
     "text": [
      "/var/folders/6v/3xlgk1vx0c1dtyc0knkbytp40000gn/T/ipykernel_8555/2874848368.py:1: DeprecationWarning: find_element_by_xpath is deprecated. Please use find_element(by=By.XPATH, value=xpath) instead\n",
      "  tab = d.find_element_by_xpath('//*[@id=\"getStudentDetails\"]/div/table').get_attribute('outerHTML')\n"
     ]
    }
   ],
   "source": [
    "tab = d.find_element_by_xpath('//*[@id=\"getStudentDetails\"]/div/table').get_attribute('outerHTML')\n",
    "tab2 =  pd.read_html(tab)"
   ]
  },
  {
   "cell_type": "code",
   "execution_count": 40,
   "metadata": {},
   "outputs": [],
   "source": [
    "tabT = tab2[0]\n",
    "tabT = tabT.T"
   ]
  },
  {
   "cell_type": "code",
   "execution_count": 41,
   "metadata": {},
   "outputs": [
    {
     "data": {
      "text/html": [
       "<div>\n",
       "<style scoped>\n",
       "    .dataframe tbody tr th:only-of-type {\n",
       "        vertical-align: middle;\n",
       "    }\n",
       "\n",
       "    .dataframe tbody tr th {\n",
       "        vertical-align: top;\n",
       "    }\n",
       "\n",
       "    .dataframe thead th {\n",
       "        text-align: right;\n",
       "    }\n",
       "</style>\n",
       "<table border=\"1\" class=\"dataframe\">\n",
       "  <thead>\n",
       "    <tr style=\"text-align: right;\">\n",
       "      <th></th>\n",
       "      <th>0</th>\n",
       "      <th>1</th>\n",
       "      <th>2</th>\n",
       "      <th>3</th>\n",
       "      <th>4</th>\n",
       "      <th>5</th>\n",
       "      <th>6</th>\n",
       "    </tr>\n",
       "  </thead>\n",
       "  <tbody>\n",
       "    <tr>\n",
       "      <th>0</th>\n",
       "      <td>NaN</td>\n",
       "      <td>Sl.No</td>\n",
       "      <td>1</td>\n",
       "      <td>2</td>\n",
       "      <td>3</td>\n",
       "      <td>Total Number Of Credits: 11</td>\n",
       "      <td>NaN</td>\n",
       "    </tr>\n",
       "    <tr>\n",
       "      <th>1</th>\n",
       "      <td>NaN</td>\n",
       "      <td>Class  Group</td>\n",
       "      <td>General</td>\n",
       "      <td>General</td>\n",
       "      <td>General</td>\n",
       "      <td>Total Number Of Credits: 11</td>\n",
       "      <td>NaN</td>\n",
       "    </tr>\n",
       "    <tr>\n",
       "      <th>2</th>\n",
       "      <td>NaN</td>\n",
       "      <td>Course</td>\n",
       "      <td>CSE3001 - Database Management Systems - Lectur...</td>\n",
       "      <td>CSE3011 - Python Programming - Lecture and Pra...</td>\n",
       "      <td>MAT3003 - Probability, Statistics And Reliabil...</td>\n",
       "      <td>Total Number Of Credits: 11</td>\n",
       "      <td>NaN</td>\n",
       "    </tr>\n",
       "    <tr>\n",
       "      <th>3</th>\n",
       "      <td>NaN</td>\n",
       "      <td>L T P J C</td>\n",
       "      <td>0 0 0 0 4</td>\n",
       "      <td>0 0 0 0 3</td>\n",
       "      <td>0 0 0 0 4</td>\n",
       "      <td>Total Number Of Credits: 11</td>\n",
       "      <td>NaN</td>\n",
       "    </tr>\n",
       "    <tr>\n",
       "      <th>4</th>\n",
       "      <td>NaN</td>\n",
       "      <td>Course  Option</td>\n",
       "      <td>Regular</td>\n",
       "      <td>Regular</td>\n",
       "      <td>Regular</td>\n",
       "      <td>Total Number Of Credits: 11</td>\n",
       "      <td>NaN</td>\n",
       "    </tr>\n",
       "    <tr>\n",
       "      <th>5</th>\n",
       "      <td>NaN</td>\n",
       "      <td>Class  Nbr</td>\n",
       "      <td>BL20212211000068</td>\n",
       "      <td>BL20212211000080</td>\n",
       "      <td>BL20212211000030</td>\n",
       "      <td>Total Number Of Credits: 11</td>\n",
       "      <td>NaN</td>\n",
       "    </tr>\n",
       "    <tr>\n",
       "      <th>6</th>\n",
       "      <td>NaN</td>\n",
       "      <td>Attendance Type</td>\n",
       "      <td>Manual</td>\n",
       "      <td>Manual</td>\n",
       "      <td>Manual</td>\n",
       "      <td>Total Number Of Credits: 11</td>\n",
       "      <td>NaN</td>\n",
       "    </tr>\n",
       "    <tr>\n",
       "      <th>7</th>\n",
       "      <td>NaN</td>\n",
       "      <td>Slot</td>\n",
       "      <td>B11+B12+B13+E11+E12+E13</td>\n",
       "      <td>A11+A12+A13+D11+D12</td>\n",
       "      <td>C11+C12+C13+C23+F11+F12</td>\n",
       "      <td>Total Number Of Credits: 11</td>\n",
       "      <td>NaN</td>\n",
       "    </tr>\n",
       "    <tr>\n",
       "      <th>8</th>\n",
       "      <td>NaN</td>\n",
       "      <td>Venue</td>\n",
       "      <td>AB402</td>\n",
       "      <td>AB306</td>\n",
       "      <td>AB105</td>\n",
       "      <td>Total Number Of Credits: 11</td>\n",
       "      <td>NaN</td>\n",
       "    </tr>\n",
       "    <tr>\n",
       "      <th>9</th>\n",
       "      <td>NaN</td>\n",
       "      <td>Faculty  Name</td>\n",
       "      <td>BASEERA A - SCSE</td>\n",
       "      <td>ANAND MOTWANI - SCSE</td>\n",
       "      <td>JYOTI BADGE - SASL</td>\n",
       "      <td>Total Number Of Credits: 11</td>\n",
       "      <td>NaN</td>\n",
       "    </tr>\n",
       "    <tr>\n",
       "      <th>10</th>\n",
       "      <td>NaN</td>\n",
       "      <td>Registered / Updated  Date &amp; Time Name</td>\n",
       "      <td>01-Mar-2022 20:32</td>\n",
       "      <td>01-Mar-2022 20:33</td>\n",
       "      <td>01-Mar-2022 20:31</td>\n",
       "      <td>Total Number Of Credits: 11</td>\n",
       "      <td>NaN</td>\n",
       "    </tr>\n",
       "    <tr>\n",
       "      <th>11</th>\n",
       "      <td>NaN</td>\n",
       "      <td>Attendance Date</td>\n",
       "      <td>02-Mar-2022</td>\n",
       "      <td>02-Mar-2022</td>\n",
       "      <td>02-Mar-2022</td>\n",
       "      <td>Total Number Of Credits: 11</td>\n",
       "      <td>NaN</td>\n",
       "    </tr>\n",
       "    <tr>\n",
       "      <th>12</th>\n",
       "      <td>NaN</td>\n",
       "      <td>Status</td>\n",
       "      <td>Registered and Approved</td>\n",
       "      <td>Registered and Approved</td>\n",
       "      <td>Registered and Approved</td>\n",
       "      <td>Total Number Of Credits: 11</td>\n",
       "      <td>NaN</td>\n",
       "    </tr>\n",
       "    <tr>\n",
       "      <th>13</th>\n",
       "      <td>NaN</td>\n",
       "      <td>Ref.No</td>\n",
       "      <td>0</td>\n",
       "      <td>0</td>\n",
       "      <td>0</td>\n",
       "      <td>Total Number Of Credits: 11</td>\n",
       "      <td>NaN</td>\n",
       "    </tr>\n",
       "    <tr>\n",
       "      <th>14</th>\n",
       "      <td>NaN</td>\n",
       "      <td>NaN</td>\n",
       "      <td>NaN</td>\n",
       "      <td>NaN</td>\n",
       "      <td>NaN</td>\n",
       "      <td>Total Number Of Credits: 11</td>\n",
       "      <td>NaN</td>\n",
       "    </tr>\n",
       "    <tr>\n",
       "      <th>15</th>\n",
       "      <td>NaN</td>\n",
       "      <td>NaN</td>\n",
       "      <td>NaN</td>\n",
       "      <td>NaN</td>\n",
       "      <td>NaN</td>\n",
       "      <td>Total Number Of Credits: 11</td>\n",
       "      <td>NaN</td>\n",
       "    </tr>\n",
       "  </tbody>\n",
       "</table>\n",
       "</div>"
      ],
      "text/plain": [
       "      0                                       1  \\\n",
       "0   NaN                                   Sl.No   \n",
       "1   NaN                            Class  Group   \n",
       "2   NaN                                  Course   \n",
       "3   NaN                               L T P J C   \n",
       "4   NaN                          Course  Option   \n",
       "5   NaN                              Class  Nbr   \n",
       "6   NaN                         Attendance Type   \n",
       "7   NaN                                    Slot   \n",
       "8   NaN                                   Venue   \n",
       "9   NaN                           Faculty  Name   \n",
       "10  NaN  Registered / Updated  Date & Time Name   \n",
       "11  NaN                         Attendance Date   \n",
       "12  NaN                                  Status   \n",
       "13  NaN                                  Ref.No   \n",
       "14  NaN                                     NaN   \n",
       "15  NaN                                     NaN   \n",
       "\n",
       "                                                    2  \\\n",
       "0                                                   1   \n",
       "1                                             General   \n",
       "2   CSE3001 - Database Management Systems - Lectur...   \n",
       "3                                           0 0 0 0 4   \n",
       "4                                             Regular   \n",
       "5                                    BL20212211000068   \n",
       "6                                              Manual   \n",
       "7                             B11+B12+B13+E11+E12+E13   \n",
       "8                                               AB402   \n",
       "9                                    BASEERA A - SCSE   \n",
       "10                                  01-Mar-2022 20:32   \n",
       "11                                        02-Mar-2022   \n",
       "12                            Registered and Approved   \n",
       "13                                                  0   \n",
       "14                                                NaN   \n",
       "15                                                NaN   \n",
       "\n",
       "                                                    3  \\\n",
       "0                                                   2   \n",
       "1                                             General   \n",
       "2   CSE3011 - Python Programming - Lecture and Pra...   \n",
       "3                                           0 0 0 0 3   \n",
       "4                                             Regular   \n",
       "5                                    BL20212211000080   \n",
       "6                                              Manual   \n",
       "7                                 A11+A12+A13+D11+D12   \n",
       "8                                               AB306   \n",
       "9                                ANAND MOTWANI - SCSE   \n",
       "10                                  01-Mar-2022 20:33   \n",
       "11                                        02-Mar-2022   \n",
       "12                            Registered and Approved   \n",
       "13                                                  0   \n",
       "14                                                NaN   \n",
       "15                                                NaN   \n",
       "\n",
       "                                                    4  \\\n",
       "0                                                   3   \n",
       "1                                             General   \n",
       "2   MAT3003 - Probability, Statistics And Reliabil...   \n",
       "3                                           0 0 0 0 4   \n",
       "4                                             Regular   \n",
       "5                                    BL20212211000030   \n",
       "6                                              Manual   \n",
       "7                             C11+C12+C13+C23+F11+F12   \n",
       "8                                               AB105   \n",
       "9                                  JYOTI BADGE - SASL   \n",
       "10                                  01-Mar-2022 20:31   \n",
       "11                                        02-Mar-2022   \n",
       "12                            Registered and Approved   \n",
       "13                                                  0   \n",
       "14                                                NaN   \n",
       "15                                                NaN   \n",
       "\n",
       "                              5    6  \n",
       "0   Total Number Of Credits: 11  NaN  \n",
       "1   Total Number Of Credits: 11  NaN  \n",
       "2   Total Number Of Credits: 11  NaN  \n",
       "3   Total Number Of Credits: 11  NaN  \n",
       "4   Total Number Of Credits: 11  NaN  \n",
       "5   Total Number Of Credits: 11  NaN  \n",
       "6   Total Number Of Credits: 11  NaN  \n",
       "7   Total Number Of Credits: 11  NaN  \n",
       "8   Total Number Of Credits: 11  NaN  \n",
       "9   Total Number Of Credits: 11  NaN  \n",
       "10  Total Number Of Credits: 11  NaN  \n",
       "11  Total Number Of Credits: 11  NaN  \n",
       "12  Total Number Of Credits: 11  NaN  \n",
       "13  Total Number Of Credits: 11  NaN  \n",
       "14  Total Number Of Credits: 11  NaN  \n",
       "15  Total Number Of Credits: 11  NaN  "
      ]
     },
     "execution_count": 41,
     "metadata": {},
     "output_type": "execute_result"
    }
   ],
   "source": [
    "tabT"
   ]
  },
  {
   "cell_type": "code",
   "execution_count": 24,
   "metadata": {},
   "outputs": [
    {
     "name": "stderr",
     "output_type": "stream",
     "text": [
      "/var/folders/6v/3xlgk1vx0c1dtyc0knkbytp40000gn/T/ipykernel_8555/10318886.py:2: DeprecationWarning: find_element_by_xpath is deprecated. Please use find_element(by=By.XPATH, value=xpath) instead\n",
      "  tab = d.find_element_by_xpath('//*[@id=\"timeTableStyle\"]').get_attribute('outerHTML')\n"
     ]
    },
    {
     "ename": "InvalidSessionIdException",
     "evalue": "Message: \n",
     "output_type": "error",
     "traceback": [
      "\u001b[0;31m---------------------------------------------------------------------------\u001b[0m",
      "\u001b[0;31mInvalidSessionIdException\u001b[0m                 Traceback (most recent call last)",
      "\u001b[1;32m/Users/prakharraj1302/Desktop/winsem_2_py/project_1/vtop_1_final.ipynb Cell 30'\u001b[0m in \u001b[0;36m<module>\u001b[0;34m\u001b[0m\n\u001b[1;32m      <a href='vscode-notebook-cell:/Users/prakharraj1302/Desktop/winsem_2_py/project_1/vtop_1_final.ipynb#ch0000040?line=0'>1</a>\u001b[0m \u001b[39m# d.execute_script(\"javascript:loadmydiv('academics/common/StudentTimeTable')\")\u001b[39;00m\n\u001b[0;32m----> <a href='vscode-notebook-cell:/Users/prakharraj1302/Desktop/winsem_2_py/project_1/vtop_1_final.ipynb#ch0000040?line=1'>2</a>\u001b[0m tab \u001b[39m=\u001b[39m d\u001b[39m.\u001b[39;49mfind_element_by_xpath(\u001b[39m'\u001b[39;49m\u001b[39m//*[@id=\u001b[39;49m\u001b[39m\"\u001b[39;49m\u001b[39mtimeTableStyle\u001b[39;49m\u001b[39m\"\u001b[39;49m\u001b[39m]\u001b[39;49m\u001b[39m'\u001b[39;49m)\u001b[39m.\u001b[39mget_attribute(\u001b[39m'\u001b[39m\u001b[39mouterHTML\u001b[39m\u001b[39m'\u001b[39m)\n\u001b[1;32m      <a href='vscode-notebook-cell:/Users/prakharraj1302/Desktop/winsem_2_py/project_1/vtop_1_final.ipynb#ch0000040?line=2'>3</a>\u001b[0m tab2 \u001b[39m=\u001b[39m  pd\u001b[39m.\u001b[39mread_html(tab)\n",
      "File \u001b[0;32m/Library/Frameworks/Python.framework/Versions/3.9/lib/python3.9/site-packages/selenium/webdriver/remote/webdriver.py:521\u001b[0m, in \u001b[0;36mWebDriver.find_element_by_xpath\u001b[0;34m(self, xpath)\u001b[0m\n\u001b[1;32m    <a href='file:///Library/Frameworks/Python.framework/Versions/3.9/lib/python3.9/site-packages/selenium/webdriver/remote/webdriver.py?line=498'>499</a>\u001b[0m \u001b[39m\"\"\"\u001b[39;00m\n\u001b[1;32m    <a href='file:///Library/Frameworks/Python.framework/Versions/3.9/lib/python3.9/site-packages/selenium/webdriver/remote/webdriver.py?line=499'>500</a>\u001b[0m \u001b[39mFinds an element by xpath.\u001b[39;00m\n\u001b[1;32m    <a href='file:///Library/Frameworks/Python.framework/Versions/3.9/lib/python3.9/site-packages/selenium/webdriver/remote/webdriver.py?line=500'>501</a>\u001b[0m \n\u001b[0;32m   (...)\u001b[0m\n\u001b[1;32m    <a href='file:///Library/Frameworks/Python.framework/Versions/3.9/lib/python3.9/site-packages/selenium/webdriver/remote/webdriver.py?line=513'>514</a>\u001b[0m \u001b[39m        element = driver.find_element_by_xpath('//div/td[1]')\u001b[39;00m\n\u001b[1;32m    <a href='file:///Library/Frameworks/Python.framework/Versions/3.9/lib/python3.9/site-packages/selenium/webdriver/remote/webdriver.py?line=514'>515</a>\u001b[0m \u001b[39m\"\"\"\u001b[39;00m\n\u001b[1;32m    <a href='file:///Library/Frameworks/Python.framework/Versions/3.9/lib/python3.9/site-packages/selenium/webdriver/remote/webdriver.py?line=515'>516</a>\u001b[0m warnings\u001b[39m.\u001b[39mwarn(\n\u001b[1;32m    <a href='file:///Library/Frameworks/Python.framework/Versions/3.9/lib/python3.9/site-packages/selenium/webdriver/remote/webdriver.py?line=516'>517</a>\u001b[0m     \u001b[39m\"\u001b[39m\u001b[39mfind_element_by_xpath is deprecated. Please use find_element(by=By.XPATH, value=xpath) instead\u001b[39m\u001b[39m\"\u001b[39m,\n\u001b[1;32m    <a href='file:///Library/Frameworks/Python.framework/Versions/3.9/lib/python3.9/site-packages/selenium/webdriver/remote/webdriver.py?line=517'>518</a>\u001b[0m     \u001b[39mDeprecationWarning\u001b[39;00m,\n\u001b[1;32m    <a href='file:///Library/Frameworks/Python.framework/Versions/3.9/lib/python3.9/site-packages/selenium/webdriver/remote/webdriver.py?line=518'>519</a>\u001b[0m     stacklevel\u001b[39m=\u001b[39m\u001b[39m2\u001b[39m,\n\u001b[1;32m    <a href='file:///Library/Frameworks/Python.framework/Versions/3.9/lib/python3.9/site-packages/selenium/webdriver/remote/webdriver.py?line=519'>520</a>\u001b[0m )\n\u001b[0;32m--> <a href='file:///Library/Frameworks/Python.framework/Versions/3.9/lib/python3.9/site-packages/selenium/webdriver/remote/webdriver.py?line=520'>521</a>\u001b[0m \u001b[39mreturn\u001b[39;00m \u001b[39mself\u001b[39;49m\u001b[39m.\u001b[39;49mfind_element(by\u001b[39m=\u001b[39;49mBy\u001b[39m.\u001b[39;49mXPATH, value\u001b[39m=\u001b[39;49mxpath)\n",
      "File \u001b[0;32m/Library/Frameworks/Python.framework/Versions/3.9/lib/python3.9/site-packages/selenium/webdriver/remote/webdriver.py:1248\u001b[0m, in \u001b[0;36mWebDriver.find_element\u001b[0;34m(self, by, value)\u001b[0m\n\u001b[1;32m   <a href='file:///Library/Frameworks/Python.framework/Versions/3.9/lib/python3.9/site-packages/selenium/webdriver/remote/webdriver.py?line=1244'>1245</a>\u001b[0m     by \u001b[39m=\u001b[39m By\u001b[39m.\u001b[39mCSS_SELECTOR\n\u001b[1;32m   <a href='file:///Library/Frameworks/Python.framework/Versions/3.9/lib/python3.9/site-packages/selenium/webdriver/remote/webdriver.py?line=1245'>1246</a>\u001b[0m     value \u001b[39m=\u001b[39m \u001b[39m'\u001b[39m\u001b[39m[name=\u001b[39m\u001b[39m\"\u001b[39m\u001b[39m%s\u001b[39;00m\u001b[39m\"\u001b[39m\u001b[39m]\u001b[39m\u001b[39m'\u001b[39m \u001b[39m%\u001b[39m value\n\u001b[0;32m-> <a href='file:///Library/Frameworks/Python.framework/Versions/3.9/lib/python3.9/site-packages/selenium/webdriver/remote/webdriver.py?line=1247'>1248</a>\u001b[0m \u001b[39mreturn\u001b[39;00m \u001b[39mself\u001b[39;49m\u001b[39m.\u001b[39;49mexecute(Command\u001b[39m.\u001b[39;49mFIND_ELEMENT, {\n\u001b[1;32m   <a href='file:///Library/Frameworks/Python.framework/Versions/3.9/lib/python3.9/site-packages/selenium/webdriver/remote/webdriver.py?line=1248'>1249</a>\u001b[0m     \u001b[39m'\u001b[39;49m\u001b[39musing\u001b[39;49m\u001b[39m'\u001b[39;49m: by,\n\u001b[1;32m   <a href='file:///Library/Frameworks/Python.framework/Versions/3.9/lib/python3.9/site-packages/selenium/webdriver/remote/webdriver.py?line=1249'>1250</a>\u001b[0m     \u001b[39m'\u001b[39;49m\u001b[39mvalue\u001b[39;49m\u001b[39m'\u001b[39;49m: value})[\u001b[39m'\u001b[39m\u001b[39mvalue\u001b[39m\u001b[39m'\u001b[39m]\n",
      "File \u001b[0;32m/Library/Frameworks/Python.framework/Versions/3.9/lib/python3.9/site-packages/selenium/webdriver/remote/webdriver.py:425\u001b[0m, in \u001b[0;36mWebDriver.execute\u001b[0;34m(self, driver_command, params)\u001b[0m\n\u001b[1;32m    <a href='file:///Library/Frameworks/Python.framework/Versions/3.9/lib/python3.9/site-packages/selenium/webdriver/remote/webdriver.py?line=422'>423</a>\u001b[0m response \u001b[39m=\u001b[39m \u001b[39mself\u001b[39m\u001b[39m.\u001b[39mcommand_executor\u001b[39m.\u001b[39mexecute(driver_command, params)\n\u001b[1;32m    <a href='file:///Library/Frameworks/Python.framework/Versions/3.9/lib/python3.9/site-packages/selenium/webdriver/remote/webdriver.py?line=423'>424</a>\u001b[0m \u001b[39mif\u001b[39;00m response:\n\u001b[0;32m--> <a href='file:///Library/Frameworks/Python.framework/Versions/3.9/lib/python3.9/site-packages/selenium/webdriver/remote/webdriver.py?line=424'>425</a>\u001b[0m     \u001b[39mself\u001b[39;49m\u001b[39m.\u001b[39;49merror_handler\u001b[39m.\u001b[39;49mcheck_response(response)\n\u001b[1;32m    <a href='file:///Library/Frameworks/Python.framework/Versions/3.9/lib/python3.9/site-packages/selenium/webdriver/remote/webdriver.py?line=425'>426</a>\u001b[0m     response[\u001b[39m'\u001b[39m\u001b[39mvalue\u001b[39m\u001b[39m'\u001b[39m] \u001b[39m=\u001b[39m \u001b[39mself\u001b[39m\u001b[39m.\u001b[39m_unwrap_value(\n\u001b[1;32m    <a href='file:///Library/Frameworks/Python.framework/Versions/3.9/lib/python3.9/site-packages/selenium/webdriver/remote/webdriver.py?line=426'>427</a>\u001b[0m         response\u001b[39m.\u001b[39mget(\u001b[39m'\u001b[39m\u001b[39mvalue\u001b[39m\u001b[39m'\u001b[39m, \u001b[39mNone\u001b[39;00m))\n\u001b[1;32m    <a href='file:///Library/Frameworks/Python.framework/Versions/3.9/lib/python3.9/site-packages/selenium/webdriver/remote/webdriver.py?line=427'>428</a>\u001b[0m     \u001b[39mreturn\u001b[39;00m response\n",
      "File \u001b[0;32m/Library/Frameworks/Python.framework/Versions/3.9/lib/python3.9/site-packages/selenium/webdriver/remote/errorhandler.py:247\u001b[0m, in \u001b[0;36mErrorHandler.check_response\u001b[0;34m(self, response)\u001b[0m\n\u001b[1;32m    <a href='file:///Library/Frameworks/Python.framework/Versions/3.9/lib/python3.9/site-packages/selenium/webdriver/remote/errorhandler.py?line=244'>245</a>\u001b[0m         alert_text \u001b[39m=\u001b[39m value[\u001b[39m'\u001b[39m\u001b[39malert\u001b[39m\u001b[39m'\u001b[39m]\u001b[39m.\u001b[39mget(\u001b[39m'\u001b[39m\u001b[39mtext\u001b[39m\u001b[39m'\u001b[39m)\n\u001b[1;32m    <a href='file:///Library/Frameworks/Python.framework/Versions/3.9/lib/python3.9/site-packages/selenium/webdriver/remote/errorhandler.py?line=245'>246</a>\u001b[0m     \u001b[39mraise\u001b[39;00m exception_class(message, screen, stacktrace, alert_text)  \u001b[39m# type: ignore[call-arg]  # mypy is not smart enough here\u001b[39;00m\n\u001b[0;32m--> <a href='file:///Library/Frameworks/Python.framework/Versions/3.9/lib/python3.9/site-packages/selenium/webdriver/remote/errorhandler.py?line=246'>247</a>\u001b[0m \u001b[39mraise\u001b[39;00m exception_class(message, screen, stacktrace)\n",
      "\u001b[0;31mInvalidSessionIdException\u001b[0m: Message: \n"
     ]
    }
   ],
   "source": [
    "# d.execute_script(\"javascript:loadmydiv('academics/common/StudentTimeTable')\")\n",
    "tab = d.find_element_by_xpath('//*[@id=\"timeTableStyle\"]').get_attribute('outerHTML')\n",
    "tab2 =  pd.read_html(tab)"
   ]
  },
  {
   "cell_type": "code",
   "execution_count": null,
   "metadata": {},
   "outputs": [],
   "source": []
  },
  {
   "cell_type": "code",
   "execution_count": null,
   "metadata": {},
   "outputs": [],
   "source": []
  },
  {
   "cell_type": "markdown",
   "metadata": {},
   "source": [
    "## CLOSE DRIVER"
   ]
  },
  {
   "cell_type": "code",
   "execution_count": 8,
   "metadata": {},
   "outputs": [],
   "source": [
    "d.close()"
   ]
  }
 ],
 "metadata": {
  "interpreter": {
   "hash": "705c6a2b6d11eb0783abcd185cadcd6e695f113c77c03493df62b02cd73f8e04"
  },
  "kernelspec": {
   "display_name": "Python 3.9.10 ('python_custom')",
   "language": "python",
   "name": "python3"
  },
  "language_info": {
   "codemirror_mode": {
    "name": "ipython",
    "version": 3
   },
   "file_extension": ".py",
   "mimetype": "text/x-python",
   "name": "python",
   "nbconvert_exporter": "python",
   "pygments_lexer": "ipython3",
   "version": "3.9.10"
  },
  "orig_nbformat": 4
 },
 "nbformat": 4,
 "nbformat_minor": 2
}
